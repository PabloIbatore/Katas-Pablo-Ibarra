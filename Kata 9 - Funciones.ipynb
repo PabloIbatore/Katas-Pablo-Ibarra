{
  "cells": [
    {
      "cell_type": "markdown",
      "metadata": {},
      "source": [
        "# Ejercicio: Uso de funciones en Python"
      ]
    },
    {
      "cell_type": "markdown",
      "metadata": {},
      "source": [
        "### Ejercicio 1: Trabajar con argumentos en funciones\n",
        "\n",
        "Los argumentos requeridos en las funciones se utilizan cuando las funciones necesitan que esos argumentos funcionen correctamente. En este ejercicio, construirás un informe de combustible que requiere información de varias ubicaciones de combustible en todo el cohete.\n",
        "\n"
      ]
    },
    {
      "cell_type": "markdown",
      "metadata": {},
      "source": [
        "> **TIP**\n",
        "> Dedica unos minutos para tratar de encontrar una solución. Luego desplázate hacia abajo hasta la parte inferior para ver si has logrado compilar el programa de acuerdo con las especificaciones\n",
        "\n",
        "Comienza por crear una función que necesite tres lecturas de combustible y devuelva un informe:"
      ]
    },
    {
      "cell_type": "code",
      "execution_count": 10,
      "metadata": {},
      "outputs": [],
      "source": [
        "# Función para leer 3 tanques de combustible y muestre el promedio\n",
        "def ReporteCombustible(Tanque1, Tanque2, Tanque3):\n",
        "    ReportePromedio = ((Tanque1 + Tanque2 + Tanque3)/3)\n",
        "    return f\"\"\" Reporte General de Combutible:\n",
        "                Tanque 1 = {Tanque1} Litros\n",
        "                Tanque 2 = {Tanque2} Litros\n",
        "                Tanque 3 = {Tanque3} Litros\n",
        "                Promedio = {ReportePromedio} Litros\"\"\"\n",
        "                \n",
        "            "
      ]
    },
    {
      "cell_type": "markdown",
      "metadata": {},
      "source": [
        "Ahora que hemos definido la función de informes, vamos a comprobarlo. Para esta misión, los tanques no están llenos:"
      ]
    },
    {
      "cell_type": "code",
      "execution_count": 11,
      "metadata": {},
      "outputs": [
        {
          "name": "stdout",
          "output_type": "stream",
          "text": [
            " Reporte General de Combutible:\n",
            "                Tanque 1 = 90 Litros\n",
            "                Tanque 2 = 37 Litros\n",
            "                Tanque 3 = 66 Litros\n",
            "                Promedio = 64.33333333333333 Litros\n"
          ]
        }
      ],
      "source": [
        "\n",
        "# Llamamos a la función que genera el reporte print(funcion(tanque1, tanque2, tanque3))\n",
        "print(ReporteCombustible(90, 37, 66))"
      ]
    },
    {
      "cell_type": "markdown",
      "metadata": {},
      "source": [
        "En lugar de simplemente crear el informe, la función también está calculando el promedio. Mejora la legibilidad extrayendo el cálculo promedio de la función en una nueva función para que el promedio se pueda hacer de forma independiente:"
      ]
    },
    {
      "cell_type": "code",
      "execution_count": 12,
      "metadata": {},
      "outputs": [
        {
          "name": "stdout",
          "output_type": "stream",
          "text": [
            "Litros promedio 64.33333333333333\n"
          ]
        }
      ],
      "source": [
        "# Función promedio \n",
        "\n",
        "def promedio(Valores):\n",
        "    litros = sum(Valores)\n",
        "    cantidad = len(Valores)\n",
        "    return litros / cantidad\n",
        "\n",
        "print('Litros promedio', promedio([90, 37, 66]))"
      ]
    },
    {
      "cell_type": "markdown",
      "metadata": {},
      "source": [
        "Ahora actualiza la función de informes para llamando a la nueva función del promedio:\n"
      ]
    },
    {
      "cell_type": "code",
      "execution_count": 13,
      "metadata": {},
      "outputs": [
        {
          "name": "stdout",
          "output_type": "stream",
          "text": [
            " Reporte General de Combutible:\n",
            "                Tanque 1 = 50 Litros\n",
            "                Tanque 2 = 60 Litros\n",
            "                Tanque 3 = 59 Litros\n",
            "                Promedio = 56.333333333333336 Litros\n"
          ]
        }
      ],
      "source": [
        "# Actualiza la función\n",
        "\n",
        "def ReporteCombustible(Tanque1, Tanque2, Tanque3):\n",
        "    return f\"\"\" Reporte General de Combutible:\n",
        "                Tanque 1 = {Tanque1} Litros\n",
        "                Tanque 2 = {Tanque2} Litros\n",
        "                Tanque 3 = {Tanque3} Litros\n",
        "                Promedio = {promedio([Tanque1, Tanque2, Tanque3])} Litros\"\"\"\n",
        "\n",
        "\n",
        "print(ReporteCombustible(50, 60, 59))"
      ]
    },
    {
      "cell_type": "markdown",
      "metadata": {},
      "source": [
        "> Recuerda: Lo importante es intentarlo, puedes auxiliarte de internet, libros, etc. El objetivo de una kata es la comprobación de la comprensión de la lección y su aplicación inmediata a la resolución de problemas. Go for it!"
      ]
    },
    {
      "cell_type": "markdown",
      "metadata": {},
      "source": [
        "## Ejercicio 2: Trabajo con argumentos de palabra clave"
      ]
    },
    {
      "cell_type": "markdown",
      "metadata": {},
      "source": [
        "### Ejercicio : Trabajar con argumentos de palabras clave en funciones\n",
        "En este ejercicio, construirás un informe de cohete que requiere varias piezas de información, como el tiempo hasta el destino, el combustible a la izquierda y el nombre del destino. Comienza por crear una función que creará un informe preciso de la misión:"
      ]
    },
    {
      "cell_type": "code",
      "execution_count": 14,
      "metadata": {},
      "outputs": [
        {
          "name": "stdout",
          "output_type": "stream",
          "text": [
            "Misión en: Jupiter\n",
            "Tiempo de viaje: 310 horas\n",
            "Combustible remanente: 170000 Litros\n",
            "            \n"
          ]
        }
      ],
      "source": [
        "# Función con un informe preciso de la misión. Considera hora de prelanzamiento, tiempo de vuelo, destino, tanque externo y tanque interno\n",
        "\n",
        "def mision(prelanzamiento, Tvuelo, destino, TKexterno, TKinterno):\n",
        "    return f\"\"\"Misión en: {destino}\n",
        "Tiempo de viaje: {prelanzamiento + Tvuelo} horas\n",
        "Combustible remanente: {TKexterno + TKinterno} Litros\n",
        "            \"\"\"\n",
        "\n",
        "print(mision(10, 300, \"Jupiter\", 100000, 70000))   \n"
      ]
    },
    {
      "cell_type": "markdown",
      "metadata": {},
      "source": [
        "La función es problemática porque no se puede adaptar para minutos adicionales o tanques adicionales de combustible. Hazlo más flexible permitiendo cualquier número de pasos basados en el tiempo y cualquier número de tanques. En lugar de usar `*args` y `**kwargs`, aprovecha el hecho de que puedes usar cualquier nombre que desees. Asegurate que la función sea más legible mediante el uso de nombres de variables que están asociados con las entradas, como `*minutes` y `**fuel_reservoirs`:"
      ]
    },
    {
      "cell_type": "code",
      "execution_count": 15,
      "metadata": {},
      "outputs": [
        {
          "name": "stdout",
          "output_type": "stream",
          "text": [
            "\n",
            "    Misión en: Jupiter\n",
            "    Tiempo de viaje: 703 minutos\n",
            "    Combustible remanente: 180000\n",
            "    \n"
          ]
        }
      ],
      "source": [
        "# Escribe tu nueva función de reporte considerando lo anterior\n",
        "\n",
        "def mision(destino, *minutes, **fuel_reservoirs):\n",
        "    return f\"\"\"\n",
        "    Misión en: {destino}\n",
        "    Tiempo de viaje: {sum(minutes)} minutos\n",
        "    Combustible remanente: {sum(fuel_reservoirs.values())}\n",
        "    \"\"\"\n",
        "\n",
        "print(mision(\"Jupiter\", 10, 300, 273, 120, interno=100000, externo=70000, emergencia=10000))"
      ]
    },
    {
      "cell_type": "markdown",
      "metadata": {},
      "source": [
        "Debido a que el combustible que queda en los tanques es específico de cada tanque, actualiza la función para usar el nombre de cada tanque en el informe:"
      ]
    },
    {
      "cell_type": "code",
      "execution_count": 16,
      "metadata": {},
      "outputs": [
        {
          "name": "stdout",
          "output_type": "stream",
          "text": [
            "\n",
            "    Misión en: Jupiter\n",
            "    Tiempo de viaje: 703 minutos\n",
            "    Combustible remanente: 180000\n",
            "    Tanque interno con 100000 litros remanentes\n",
            "    Tanque externo con 70000 litros remanentes\n",
            "    Tanque emergencia con 10000 litros remanentes\n",
            "    \n"
          ]
        }
      ],
      "source": [
        "# Escribe tu nueva función\n",
        "\n",
        "def mision(destino, *minutes, **fuel_reservoirs):\n",
        "    ReporteMision = f\"\"\"\n",
        "    Misión en: {destino}\n",
        "    Tiempo de viaje: {sum(minutes)} minutos\n",
        "    Combustible remanente: {sum(fuel_reservoirs.values())}\n",
        "    \"\"\"\n",
        "\n",
        "    for TKexterno, litros in fuel_reservoirs.items():\n",
        "        ReporteMision += f\"Tanque {TKexterno} con {litros} litros remanentes\\n    \"\n",
        "    return ReporteMision\n",
        "\n",
        "print(mision(\"Jupiter\", 10, 300, 273, 120, interno=100000, externo=70000, emergencia=10000))\n"
      ]
    }
  ],
  "metadata": {
    "interpreter": {
      "hash": "205095b8b86ea82a021a8fc2ffba2b3bc9f8d0be25999901963b225939f75778"
    },
    "kernelspec": {
      "display_name": "Python 3.8.10 64-bit ('tmp': conda)",
      "name": "python3"
    },
    "language_info": {
      "codemirror_mode": {
        "name": "ipython",
        "version": 3
      },
      "file_extension": ".py",
      "mimetype": "text/x-python",
      "name": "python",
      "nbconvert_exporter": "python",
      "pygments_lexer": "ipython3",
      "version": "3.10.2"
    },
    "nteract": {
      "version": "nteract-front-end@1.0.0"
    },
    "orig_nbformat": 4
  },
  "nbformat": 4,
  "nbformat_minor": 2
}
