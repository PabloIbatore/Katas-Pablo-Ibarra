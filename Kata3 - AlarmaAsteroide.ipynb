{
 "cells": [
  {
   "cell_type": "markdown",
   "metadata": {},
   "source": [
    "## KATA 3 \n",
    "\n",
    "# Ejercicio 1\n",
    "Alarma de advertencia por asteroide"
   ]
  },
  {
   "cell_type": "code",
   "execution_count": 21,
   "metadata": {},
   "outputs": [
    {
     "name": "stdout",
     "output_type": "stream",
     "text": [
      "Un asteroide se acerca a una velocidad de 49 km/s\n",
      "Preparense para evacuar a Tierra 616 \n"
     ]
    }
   ],
   "source": [
    "velocidad = 49\n",
    "print (\"Un asteroide se acerca a una velocidad de \" + str(velocidad) + \" km/s\")\n",
    "if velocidad >= 25:\n",
    "   print (\"Preparense para evacuar a Tierra 616 \")\n",
    "else:\n",
    "   print (\"Pueden continuar con sus actividades con normalidad \")"
   ]
  },
  {
   "cell_type": "markdown",
   "metadata": {},
   "source": [
    "Alarma de advertencia con velocidad variable por usuario"
   ]
  },
  {
   "cell_type": "code",
   "execution_count": null,
   "metadata": {},
   "outputs": [],
   "source": [
    "print(\"Ingrese la velocidad del asteroide: \")\n",
    "velocidad = int(input())\n",
    "print (\"Un asteroide se acerca a una velocidad de \" + str(velocidad) + \" km/s\")\n",
    "if velocidad >= 25:\n",
    "   print (\"Ya nos cargo krusty\")\n",
    "else:\n",
    "   print (\"Business as usual\")"
   ]
  },
  {
   "cell_type": "markdown",
   "metadata": {},
   "source": [
    "## Ejercicio 2\n",
    "\n",
    "Alarma para una luz en el cielo con constante"
   ]
  },
  {
   "cell_type": "code",
   "execution_count": 15,
   "metadata": {},
   "outputs": [
    {
     "name": "stdout",
     "output_type": "stream",
     "text": [
      "Un asteroide se acerca a una velocidad de 19 km/s\n",
      "No salga, la probabilidad de ver un fenomeno de luz es cero\n"
     ]
    }
   ],
   "source": [
    "asteroide = 19\n",
    "print (\"Un asteroide se acerca a una velocidad de \" + str(asteroide) + \" km/s\")\n",
    "if asteroide > 20:\n",
    "   print (\"Mira al cielo hay un rayo de luz increible!\")\n",
    "elif asteroide == 20:\n",
    "   print (\"Mira al cielo hay un rayo de luz increible!\")\n",
    "else:\n",
    "   print (\"No salga, la probabilidad de ver un fenomeno de luz es cero\")"
   ]
  },
  {
   "cell_type": "markdown",
   "metadata": {},
   "source": [
    "Alarma para una luz en el cielo con variable elegida por usuario"
   ]
  },
  {
   "cell_type": "code",
   "execution_count": 17,
   "metadata": {},
   "outputs": [
    {
     "name": "stdout",
     "output_type": "stream",
     "text": [
      "Ingrese la velocidad del asteroide: \n",
      "Un asteroide se acerca a una velocidad de 26 km/s\n",
      "Mira al cielo hay un rayo de luz increible! no olvides tus lentes de sol ;)\n"
     ]
    }
   ],
   "source": [
    "print(\"Ingrese la velocidad del asteroide: \")\n",
    "asteroide2 = int(input())\n",
    "print (\"Un asteroide se acerca a una velocidad de \" + str(asteroide2) + \" km/s\")\n",
    "if asteroide2 > 20:\n",
    "   print (\"Mira al cielo hay un rayo de luz increible! no olvides tus lentes de sol ;)\")\n",
    "elif asteroide2 == 20:\n",
    "   print (\"Mira al cielo hay un rayo de luz increible! no olvides tus lentes de sol ;)\")\n",
    "else:\n",
    "   print (\"No salga, la probabilidad de ver un fenomeno de luz es cero\")"
   ]
  },
  {
   "cell_type": "markdown",
   "metadata": {},
   "source": [
    "## Ejercicio 3\n",
    "\n",
    "Alarma para la tierra"
   ]
  },
  {
   "cell_type": "code",
   "execution_count": 20,
   "metadata": {},
   "outputs": [
    {
     "name": "stdout",
     "output_type": "stream",
     "text": [
      "Ingrese la velocidad del asteroide: \n",
      "Ingrese el tamño del asteroide: \n",
      "Un asteroide se acerca a una velocidad de 50 km/s\n",
      "El asteroide tiene un tamaño de 1 m\n",
      "Mira al cielo hay un rayo de luz increible! no olvides tus lentes de sol ;)\n"
     ]
    }
   ],
   "source": [
    "#Declaración de valores para variables\n",
    "print(\"Ingrese la velocidad del asteroide: \")\n",
    "VelAsteroide = int(input())\n",
    "print(\"Ingrese el tamño del asteroide: \")\n",
    "TamAsteroide = int(input())\n",
    "#Impresión de valores\n",
    "print (\"Un asteroide se acerca a una velocidad de \" + str(VelAsteroide) + \" km/s\")\n",
    "print (\"El asteroide tiene un tamaño de \" + str(TamAsteroide) + \" m\")\n",
    "#Condiciones\n",
    "if VelAsteroide >= 25 and TamAsteroide >= 25:\n",
    "   print (\"Hay peligro terricolas!! Un asteroide gigante podria destruir la tierra .... pero se veran luces magnificas! \")\n",
    "elif VelAsteroide  >= 20:\n",
    "   print (\"Mira al cielo hay un rayo de luz increible! no olvides tus lentes de sol ;)\")\n",
    "else:\n",
    "   print (\"Puede salir, aunque la probabilidad de ver un fenomeno de luz es cero y su vida esta a salvo\")"
   ]
  }
 ],
 "metadata": {
  "interpreter": {
   "hash": "c8be0b870dce6204c6c38f824f4542011eaa7d6f6b9a017c0f54415a0c0b0437"
  },
  "kernelspec": {
   "display_name": "Python 3.10.2 64-bit (windows store)",
   "language": "python",
   "name": "python3"
  },
  "language_info": {
   "codemirror_mode": {
    "name": "ipython",
    "version": 3
   },
   "file_extension": ".py",
   "mimetype": "text/x-python",
   "name": "python",
   "nbconvert_exporter": "python",
   "pygments_lexer": "ipython3",
   "version": "3.10.2"
  },
  "orig_nbformat": 4
 },
 "nbformat": 4,
 "nbformat_minor": 2
}
